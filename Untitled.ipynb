{
 "cells": [
  {
   "cell_type": "code",
   "execution_count": 1,
   "metadata": {},
   "outputs": [],
   "source": [
    "from lppls import lppls, lppls_cmaes, data_loader\n",
    "import numpy as np\n",
    "import pandas as pd\n",
    "%matplotlib inline\n",
    "\n",
    "# read example dataset into df \n",
    "data = data_loader.sp500()\n",
    "\n",
    "# convert index col to evenly spaced numbers over a specified interval\n",
    "time = np.linspace(0, len(data)-1, len(data))\n",
    "\n",
    "# create list of observation data, in this case, \n",
    "# daily adjusted close prices of the S&P 500\n",
    "# use log price\n",
    "price = np.log(data['Adj Close'].values)\n",
    "\n",
    "# create Mx2 matrix (expected format for LPPLS observations)\n",
    "observations = np.array([time, price])\n",
    "\n",
    "# # set the max number for searches to perform before giving-up\n",
    "# # the literature suggests 25\n",
    "# MAX_SEARCHES = 25\n",
    "\n",
    "# instantiate a new LPPLS model with the S&P 500 dataset\n",
    "lppls_model = lppls_cmaes.LPPLSCMAES(observations=observations)\n",
    "\n",
    "# # fit the model to the data and get back the params\n",
    "# tc, m, w, a, b, c, c1, c2 = lppls_model.fit(observations, MAX_SEARCHES, minimizer='Nelder-Mead')\n",
    "\n",
    "# # visualize the fit\n",
    "# lppls_model.plot_fit()\n",
    "\n",
    "\n",
    "# # fit the model to the data and get back the params\n",
    "# tc, m, w, a, b, c, c1, c2 = lppls_model.fit(max_iteration=2500, pop_size=4)\n",
    "\n",
    "# # do hier some plotting stuff after the optimazation\n",
    "# lppls_model.plot_fit()\n",
    "#     plt.savefig('opti_plot_fit.png')\n",
    "#     print(lpplscmaes_model.coef_.values())"
   ]
  },
  {
   "cell_type": "code",
   "execution_count": null,
   "metadata": {},
   "outputs": [],
   "source": [
    "lppls_model.plot_fit()"
   ]
  },
  {
   "cell_type": "code",
   "execution_count": null,
   "metadata": {},
   "outputs": [],
   "source": [
    "print(tc, m, w, a, b, c, c1, c2)"
   ]
  },
  {
   "cell_type": "code",
   "execution_count": null,
   "metadata": {},
   "outputs": [],
   "source": [
    "print(tc, m, w, a, b, c, c1, c2)"
   ]
  },
  {
   "cell_type": "code",
   "execution_count": null,
   "metadata": {},
   "outputs": [],
   "source": [
    "import multiprocessing as mp\n",
    "mp.cpu_count()"
   ]
  },
  {
   "cell_type": "code",
   "execution_count": null,
   "metadata": {},
   "outputs": [],
   "source": [
    "# define custom filter condition\n",
    "filter_conditions_config = [\n",
    "  {'condition_1':[\n",
    "      (0.0, 0.1), # tc_range\n",
    "      (0,1), # m_range\n",
    "      (4,25), # w_range\n",
    "      2.5, # O_min\n",
    "      0.5, # D_min\n",
    "  ]},\n",
    "]\n",
    "\n",
    "# compute the confidence indicator\n",
    "res = lppls_model.mp_compute_indicator(\n",
    "    workers=4, \n",
    "    window_size=120, \n",
    "    smallest_window_size=30, \n",
    "    increment=5, \n",
    "    max_searches=25,\n",
    "    filter_conditions_config=filter_conditions_config\n",
    ")\n",
    "\n",
    "# lppls_model.plot_confidence_indicators(res, condition_name='condition_1', title='Short Term Indicator 120-30')\n"
   ]
  },
  {
   "cell_type": "code",
   "execution_count": null,
   "metadata": {},
   "outputs": [],
   "source": []
  }
 ],
 "metadata": {
  "kernelspec": {
   "display_name": "Python 3",
   "language": "python",
   "name": "python3"
  },
  "language_info": {
   "codemirror_mode": {
    "name": "ipython",
    "version": 3
   },
   "file_extension": ".py",
   "mimetype": "text/x-python",
   "name": "python",
   "nbconvert_exporter": "python",
   "pygments_lexer": "ipython3",
   "version": "3.8.3"
  }
 },
 "nbformat": 4,
 "nbformat_minor": 4
}
